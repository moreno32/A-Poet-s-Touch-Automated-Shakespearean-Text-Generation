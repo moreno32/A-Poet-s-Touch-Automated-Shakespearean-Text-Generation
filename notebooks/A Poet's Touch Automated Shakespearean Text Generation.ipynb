{
  "nbformat": 4,
  "nbformat_minor": 0,
  "metadata": {
    "accelerator": "GPU",
    "colab": {
      "name": "C3_W4_Assignment_Solution.ipynb",
      "provenance": [],
      "collapsed_sections": [],
      "toc_visible": true
    },
    "kernelspec": {
      "name": "python3",
      "display_name": "Python 3"
    },
    "language_info": {
      "name": "python"
    }
  },
  "cells": [
    {
      "cell_type": "code",
      "metadata": {
        "id": "zX4Kg8DUTKWO"
      },
      "source": [
        "#@title Licensed under the Apache License, Version 2.0 (the \"License\");\n",
        "# you may not use this file except in compliance with the License.\n",
        "# You may obtain a copy of the License at\n",
        "#\n",
        "# https://www.apache.org/licenses/LICENSE-2.0\n",
        "#\n",
        "# Unless required by applicable law or agreed to in writing, software\n",
        "# distributed under the License is distributed on an \"AS IS\" BASIS,\n",
        "# WITHOUT WARRANTIES OR CONDITIONS OF ANY KIND, either express or implied.\n",
        "# See the License for the specific language governing permissions and\n",
        "# limitations under the License."
      ],
      "execution_count": null,
      "outputs": []
    },
    {
      "cell_type": "markdown",
      "metadata": {
        "id": "NeQByOlMmtn8"
      },
      "source": [
        "**Note:** This notebook can run using TensorFlow 2.5.0"
      ]
    },
    {
      "cell_type": "code",
      "metadata": {
        "id": "QtWdoQT_mtn8"
      },
      "source": [
        "#!pip install tensorflow==2.5.0"
      ],
      "execution_count": null,
      "outputs": []
    },
    {
      "cell_type": "code",
      "metadata": {
        "id": "BOwsuGQQY9OL"
      },
      "source": [
        "from tensorflow.keras.preprocessing.sequence import pad_sequences\n",
        "from tensorflow.keras.layers import Embedding, LSTM, Dense, Dropout, Bidirectional\n",
        "from tensorflow.keras.preprocessing.text import Tokenizer\n",
        "from tensorflow.keras.models import Sequential\n",
        "from tensorflow.keras.optimizers import Adam\n",
        "from tensorflow.keras import regularizers\n",
        "import tensorflow.keras.utils as ku \n",
        "import numpy as np "
      ],
      "execution_count": 1,
      "outputs": []
    },
    {
      "cell_type": "code",
      "metadata": {
        "id": "PRnDnCW-Z7qv",
        "outputId": "9b6b1342-0a77-462f-bb36-f5a31eeb2f17",
        "colab": {
          "base_uri": "https://localhost:8080/"
        }
      },
      "source": [
        "tokenizer = Tokenizer()\n",
        "\n",
        "# sonnets.txt\n",
        "!gdown --id 108jAePKK4R3BVYBbYJZ32JWUwxeMg20K\n",
        "\n",
        "data = open('./sonnets.txt').read()\n",
        "\n",
        "corpus = data.lower().split(\"\\n\")\n",
        "\n",
        "\n",
        "tokenizer.fit_on_texts(corpus)\n",
        "total_words = len(tokenizer.word_index) + 1\n",
        "\n",
        "# create input sequences using list of tokens\n",
        "input_sequences = []\n",
        "for line in corpus:\n",
        "\ttoken_list = tokenizer.texts_to_sequences([line])[0]\n",
        "\tfor i in range(1, len(token_list)):\n",
        "\t\tn_gram_sequence = token_list[:i+1]\n",
        "\t\tinput_sequences.append(n_gram_sequence)\n",
        "\n",
        "\n",
        "# pad sequences \n",
        "max_sequence_len = max([len(x) for x in input_sequences])\n",
        "input_sequences = np.array(pad_sequences(input_sequences, maxlen=max_sequence_len, padding='pre'))\n",
        "\n",
        "# create predictors and label\n",
        "predictors, label = input_sequences[:,:-1],input_sequences[:,-1]\n",
        "\n",
        "label = ku.to_categorical(label, num_classes=total_words)"
      ],
      "execution_count": 2,
      "outputs": [
        {
          "output_type": "stream",
          "name": "stdout",
          "text": [
            "Downloading...\n",
            "From: https://drive.google.com/uc?id=108jAePKK4R3BVYBbYJZ32JWUwxeMg20K\n",
            "To: /content/sonnets.txt\n",
            "\r  0% 0.00/93.6k [00:00<?, ?B/s]\r100% 93.6k/93.6k [00:00<00:00, 48.3MB/s]\n"
          ]
        }
      ]
    },
    {
      "cell_type": "code",
      "metadata": {
        "id": "w9vH8Y59ajYL",
        "outputId": "224082b0-9fd8-4c7d-ea5f-b9096af522fe",
        "colab": {
          "base_uri": "https://localhost:8080/"
        }
      },
      "source": [
        "### START CODE HERE\n",
        "model = Sequential()\n",
        "model.add(Embedding(total_words, 100, input_length=max_sequence_len-1))# Your Embedding Layer)\n",
        "model.add(Bidirectional(LSTM(150, return_sequences = True)))# An LSTM Layer)\n",
        "model.add(Dropout(0.2))# A dropout layer)\n",
        "model.add(LSTM(100))# Another LSTM Layer)\n",
        "model.add(Dense(total_words/2, activation='relu', kernel_regularizer=regularizers.l2(0.01)))# A Dense Layer including regularizers)\n",
        "model.add(Dense(total_words, activation='softmax'))# A Dense Layer)\n",
        "# Pick an optimizer\n",
        "model.compile(loss='categorical_crossentropy', optimizer='adam', metrics=['accuracy'])# Pick a loss function and an optimizer)\n",
        "### END CODE HERE\n",
        "\n",
        "print(model.summary())"
      ],
      "execution_count": 3,
      "outputs": [
        {
          "output_type": "stream",
          "name": "stdout",
          "text": [
            "Model: \"sequential\"\n",
            "_________________________________________________________________\n",
            " Layer (type)                Output Shape              Param #   \n",
            "=================================================================\n",
            " embedding (Embedding)       (None, 10, 100)           321100    \n",
            "                                                                 \n",
            " bidirectional (Bidirectiona  (None, 10, 300)          301200    \n",
            " l)                                                              \n",
            "                                                                 \n",
            " dropout (Dropout)           (None, 10, 300)           0         \n",
            "                                                                 \n",
            " lstm_1 (LSTM)               (None, 100)               160400    \n",
            "                                                                 \n",
            " dense (Dense)               (None, 1605)              162105    \n",
            "                                                                 \n",
            " dense_1 (Dense)             (None, 3211)              5156866   \n",
            "                                                                 \n",
            "=================================================================\n",
            "Total params: 6,101,671\n",
            "Trainable params: 6,101,671\n",
            "Non-trainable params: 0\n",
            "_________________________________________________________________\n",
            "None\n"
          ]
        }
      ]
    },
    {
      "cell_type": "code",
      "metadata": {
        "id": "AIg2f1HBxqof",
        "outputId": "2d142539-8b99-4994-f895-206084bdad40",
        "colab": {
          "base_uri": "https://localhost:8080/"
        }
      },
      "source": [
        " history = model.fit(predictors, label, epochs=100, verbose=1)"
      ],
      "execution_count": 4,
      "outputs": [
        {
          "output_type": "stream",
          "name": "stdout",
          "text": [
            "Epoch 1/100\n",
            "484/484 [==============================] - 31s 30ms/step - loss: 6.9115 - accuracy: 0.0222\n",
            "Epoch 2/100\n",
            "484/484 [==============================] - 12s 26ms/step - loss: 6.4962 - accuracy: 0.0215\n",
            "Epoch 3/100\n",
            "484/484 [==============================] - 12s 26ms/step - loss: 6.3973 - accuracy: 0.0252\n",
            "Epoch 4/100\n",
            "484/484 [==============================] - 14s 28ms/step - loss: 6.2766 - accuracy: 0.0292\n",
            "Epoch 5/100\n",
            "484/484 [==============================] - 12s 26ms/step - loss: 6.1829 - accuracy: 0.0360\n",
            "Epoch 6/100\n",
            "484/484 [==============================] - 12s 25ms/step - loss: 6.0996 - accuracy: 0.0380\n",
            "Epoch 7/100\n",
            "484/484 [==============================] - 12s 26ms/step - loss: 6.0192 - accuracy: 0.0399\n",
            "Epoch 8/100\n",
            "484/484 [==============================] - 13s 27ms/step - loss: 5.9301 - accuracy: 0.0449\n",
            "Epoch 9/100\n",
            "484/484 [==============================] - 12s 26ms/step - loss: 5.8275 - accuracy: 0.0516\n",
            "Epoch 10/100\n",
            "484/484 [==============================] - 12s 26ms/step - loss: 5.7156 - accuracy: 0.0572\n",
            "Epoch 11/100\n",
            "484/484 [==============================] - 12s 25ms/step - loss: 5.6118 - accuracy: 0.0633\n",
            "Epoch 12/100\n",
            "484/484 [==============================] - 12s 25ms/step - loss: 5.5101 - accuracy: 0.0703\n",
            "Epoch 13/100\n",
            "484/484 [==============================] - 12s 25ms/step - loss: 5.4128 - accuracy: 0.0768\n",
            "Epoch 14/100\n",
            "484/484 [==============================] - 12s 25ms/step - loss: 5.3041 - accuracy: 0.0838\n",
            "Epoch 15/100\n",
            "484/484 [==============================] - 12s 25ms/step - loss: 5.1989 - accuracy: 0.0891\n",
            "Epoch 16/100\n",
            "484/484 [==============================] - 12s 25ms/step - loss: 5.0986 - accuracy: 0.0972\n",
            "Epoch 17/100\n",
            "484/484 [==============================] - 12s 25ms/step - loss: 4.9995 - accuracy: 0.1039\n",
            "Epoch 18/100\n",
            "484/484 [==============================] - 12s 25ms/step - loss: 4.8932 - accuracy: 0.1145\n",
            "Epoch 19/100\n",
            "484/484 [==============================] - 12s 25ms/step - loss: 4.7948 - accuracy: 0.1222\n",
            "Epoch 20/100\n",
            "484/484 [==============================] - 12s 25ms/step - loss: 4.6918 - accuracy: 0.1332\n",
            "Epoch 21/100\n",
            "484/484 [==============================] - 12s 25ms/step - loss: 4.5869 - accuracy: 0.1409\n",
            "Epoch 22/100\n",
            "484/484 [==============================] - 12s 25ms/step - loss: 4.4815 - accuracy: 0.1501\n",
            "Epoch 23/100\n",
            "484/484 [==============================] - 12s 25ms/step - loss: 4.3823 - accuracy: 0.1634\n",
            "Epoch 24/100\n",
            "484/484 [==============================] - 12s 25ms/step - loss: 4.2834 - accuracy: 0.1718\n",
            "Epoch 25/100\n",
            "484/484 [==============================] - 12s 25ms/step - loss: 4.1787 - accuracy: 0.1840\n",
            "Epoch 26/100\n",
            "484/484 [==============================] - 12s 24ms/step - loss: 4.0714 - accuracy: 0.2038\n",
            "Epoch 27/100\n",
            "484/484 [==============================] - 12s 24ms/step - loss: 3.9728 - accuracy: 0.2161\n",
            "Epoch 28/100\n",
            "484/484 [==============================] - 12s 25ms/step - loss: 3.8718 - accuracy: 0.2285\n",
            "Epoch 29/100\n",
            "484/484 [==============================] - 12s 25ms/step - loss: 3.7730 - accuracy: 0.2449\n",
            "Epoch 30/100\n",
            "484/484 [==============================] - 12s 25ms/step - loss: 3.6774 - accuracy: 0.2665\n",
            "Epoch 31/100\n",
            "484/484 [==============================] - 12s 25ms/step - loss: 3.5880 - accuracy: 0.2837\n",
            "Epoch 32/100\n",
            "484/484 [==============================] - 12s 25ms/step - loss: 3.4973 - accuracy: 0.3040\n",
            "Epoch 33/100\n",
            "484/484 [==============================] - 12s 25ms/step - loss: 3.4031 - accuracy: 0.3282\n",
            "Epoch 34/100\n",
            "484/484 [==============================] - 12s 25ms/step - loss: 3.3279 - accuracy: 0.3392\n",
            "Epoch 35/100\n",
            "484/484 [==============================] - 12s 25ms/step - loss: 3.2412 - accuracy: 0.3559\n",
            "Epoch 36/100\n",
            "484/484 [==============================] - 12s 25ms/step - loss: 3.1633 - accuracy: 0.3762\n",
            "Epoch 37/100\n",
            "484/484 [==============================] - 12s 25ms/step - loss: 3.0807 - accuracy: 0.3931\n",
            "Epoch 38/100\n",
            "484/484 [==============================] - 12s 25ms/step - loss: 3.0055 - accuracy: 0.4153\n",
            "Epoch 39/100\n",
            "484/484 [==============================] - 12s 25ms/step - loss: 2.9490 - accuracy: 0.4248\n",
            "Epoch 40/100\n",
            "484/484 [==============================] - 12s 25ms/step - loss: 2.8711 - accuracy: 0.4417\n",
            "Epoch 41/100\n",
            "484/484 [==============================] - 12s 25ms/step - loss: 2.8003 - accuracy: 0.4592\n",
            "Epoch 42/100\n",
            "484/484 [==============================] - 12s 25ms/step - loss: 2.7383 - accuracy: 0.4715\n",
            "Epoch 43/100\n",
            "484/484 [==============================] - 12s 25ms/step - loss: 2.6779 - accuracy: 0.4862\n",
            "Epoch 44/100\n",
            "484/484 [==============================] - 12s 25ms/step - loss: 2.6183 - accuracy: 0.4963\n",
            "Epoch 45/100\n",
            "484/484 [==============================] - 12s 25ms/step - loss: 2.5608 - accuracy: 0.5094\n",
            "Epoch 46/100\n",
            "484/484 [==============================] - 12s 25ms/step - loss: 2.5074 - accuracy: 0.5246\n",
            "Epoch 47/100\n",
            "484/484 [==============================] - 12s 25ms/step - loss: 2.4514 - accuracy: 0.5385\n",
            "Epoch 48/100\n",
            "484/484 [==============================] - 12s 24ms/step - loss: 2.3956 - accuracy: 0.5530\n",
            "Epoch 49/100\n",
            "484/484 [==============================] - 12s 24ms/step - loss: 2.3337 - accuracy: 0.5627\n",
            "Epoch 50/100\n",
            "484/484 [==============================] - 12s 24ms/step - loss: 2.2902 - accuracy: 0.5779\n",
            "Epoch 51/100\n",
            "484/484 [==============================] - 12s 24ms/step - loss: 2.2517 - accuracy: 0.5828\n",
            "Epoch 52/100\n",
            "484/484 [==============================] - 12s 24ms/step - loss: 2.2080 - accuracy: 0.5919\n",
            "Epoch 53/100\n",
            "484/484 [==============================] - 12s 24ms/step - loss: 2.1623 - accuracy: 0.6010\n",
            "Epoch 54/100\n",
            "484/484 [==============================] - 12s 24ms/step - loss: 2.1095 - accuracy: 0.6143\n",
            "Epoch 55/100\n",
            "484/484 [==============================] - 12s 24ms/step - loss: 2.0764 - accuracy: 0.6203\n",
            "Epoch 56/100\n",
            "484/484 [==============================] - 12s 24ms/step - loss: 2.0378 - accuracy: 0.6287\n",
            "Epoch 57/100\n",
            "484/484 [==============================] - 12s 24ms/step - loss: 2.0007 - accuracy: 0.6403\n",
            "Epoch 58/100\n",
            "484/484 [==============================] - 12s 24ms/step - loss: 1.9730 - accuracy: 0.6427\n",
            "Epoch 59/100\n",
            "484/484 [==============================] - 12s 24ms/step - loss: 1.9241 - accuracy: 0.6533\n",
            "Epoch 60/100\n",
            "484/484 [==============================] - 12s 24ms/step - loss: 1.8805 - accuracy: 0.6630\n",
            "Epoch 61/100\n",
            "484/484 [==============================] - 12s 24ms/step - loss: 1.8651 - accuracy: 0.6636\n",
            "Epoch 62/100\n",
            "484/484 [==============================] - 12s 24ms/step - loss: 1.8294 - accuracy: 0.6702\n",
            "Epoch 63/100\n",
            "484/484 [==============================] - 12s 24ms/step - loss: 1.7957 - accuracy: 0.6800\n",
            "Epoch 64/100\n",
            "484/484 [==============================] - 12s 24ms/step - loss: 1.7750 - accuracy: 0.6841\n",
            "Epoch 65/100\n",
            "484/484 [==============================] - 12s 24ms/step - loss: 1.7399 - accuracy: 0.6932\n",
            "Epoch 66/100\n",
            "484/484 [==============================] - 12s 24ms/step - loss: 1.7023 - accuracy: 0.6982\n",
            "Epoch 67/100\n",
            "484/484 [==============================] - 12s 24ms/step - loss: 1.6900 - accuracy: 0.7044\n",
            "Epoch 68/100\n",
            "484/484 [==============================] - 12s 24ms/step - loss: 1.6644 - accuracy: 0.7059\n",
            "Epoch 69/100\n",
            "484/484 [==============================] - 12s 24ms/step - loss: 1.6291 - accuracy: 0.7117\n",
            "Epoch 70/100\n",
            "484/484 [==============================] - 12s 24ms/step - loss: 1.6026 - accuracy: 0.7194\n",
            "Epoch 71/100\n",
            "484/484 [==============================] - 12s 24ms/step - loss: 1.5850 - accuracy: 0.7253\n",
            "Epoch 72/100\n",
            "484/484 [==============================] - 12s 24ms/step - loss: 1.5642 - accuracy: 0.7260\n",
            "Epoch 73/100\n",
            "484/484 [==============================] - 12s 25ms/step - loss: 1.5335 - accuracy: 0.7310\n",
            "Epoch 74/100\n",
            "484/484 [==============================] - 12s 24ms/step - loss: 1.5207 - accuracy: 0.7326\n",
            "Epoch 75/100\n",
            "484/484 [==============================] - 12s 24ms/step - loss: 1.4868 - accuracy: 0.7425\n",
            "Epoch 76/100\n",
            "484/484 [==============================] - 12s 24ms/step - loss: 1.4785 - accuracy: 0.7408\n",
            "Epoch 77/100\n",
            "484/484 [==============================] - 12s 24ms/step - loss: 1.4534 - accuracy: 0.7501\n",
            "Epoch 78/100\n",
            "484/484 [==============================] - 12s 24ms/step - loss: 1.4403 - accuracy: 0.7509\n",
            "Epoch 79/100\n",
            "484/484 [==============================] - 12s 24ms/step - loss: 1.4264 - accuracy: 0.7541\n",
            "Epoch 80/100\n",
            "484/484 [==============================] - 12s 25ms/step - loss: 1.4139 - accuracy: 0.7533\n",
            "Epoch 81/100\n",
            "484/484 [==============================] - 12s 24ms/step - loss: 1.3851 - accuracy: 0.7590\n",
            "Epoch 82/100\n",
            "484/484 [==============================] - 12s 24ms/step - loss: 1.3687 - accuracy: 0.7632\n",
            "Epoch 83/100\n",
            "484/484 [==============================] - 12s 25ms/step - loss: 1.3449 - accuracy: 0.7684\n",
            "Epoch 84/100\n",
            "484/484 [==============================] - 12s 24ms/step - loss: 1.3427 - accuracy: 0.7673\n",
            "Epoch 85/100\n",
            "484/484 [==============================] - 12s 24ms/step - loss: 1.3345 - accuracy: 0.7665\n",
            "Epoch 86/100\n",
            "484/484 [==============================] - 12s 24ms/step - loss: 1.3044 - accuracy: 0.7773\n",
            "Epoch 87/100\n",
            "484/484 [==============================] - 12s 24ms/step - loss: 1.2985 - accuracy: 0.7743\n",
            "Epoch 88/100\n",
            "484/484 [==============================] - 12s 24ms/step - loss: 1.2786 - accuracy: 0.7788\n",
            "Epoch 89/100\n",
            "484/484 [==============================] - 12s 24ms/step - loss: 1.2809 - accuracy: 0.7749\n",
            "Epoch 90/100\n",
            "484/484 [==============================] - 12s 24ms/step - loss: 1.2501 - accuracy: 0.7857\n",
            "Epoch 91/100\n",
            "484/484 [==============================] - 12s 24ms/step - loss: 1.2387 - accuracy: 0.7859\n",
            "Epoch 92/100\n",
            "484/484 [==============================] - 12s 24ms/step - loss: 1.2276 - accuracy: 0.7852\n",
            "Epoch 93/100\n",
            "484/484 [==============================] - 12s 24ms/step - loss: 1.2177 - accuracy: 0.7899\n",
            "Epoch 94/100\n",
            "484/484 [==============================] - 12s 24ms/step - loss: 1.2075 - accuracy: 0.7891\n",
            "Epoch 95/100\n",
            "484/484 [==============================] - 12s 24ms/step - loss: 1.1977 - accuracy: 0.7921\n",
            "Epoch 96/100\n",
            "484/484 [==============================] - 12s 24ms/step - loss: 1.1828 - accuracy: 0.7945\n",
            "Epoch 97/100\n",
            "484/484 [==============================] - 12s 24ms/step - loss: 1.1768 - accuracy: 0.7980\n",
            "Epoch 98/100\n",
            "484/484 [==============================] - 12s 24ms/step - loss: 1.1657 - accuracy: 0.7967\n",
            "Epoch 99/100\n",
            "484/484 [==============================] - 12s 24ms/step - loss: 1.1520 - accuracy: 0.8031\n",
            "Epoch 100/100\n",
            "484/484 [==============================] - 12s 24ms/step - loss: 1.1488 - accuracy: 0.8003\n"
          ]
        }
      ]
    },
    {
      "cell_type": "code",
      "metadata": {
        "id": "1fXTEO3GJ282",
        "outputId": "f6f4669b-4a12-4af4-d538-37dc514e9ac4",
        "colab": {
          "base_uri": "https://localhost:8080/",
          "height": 545
        }
      },
      "source": [
        "import matplotlib.pyplot as plt\n",
        "acc = history.history['accuracy']\n",
        "loss = history.history['loss']\n",
        "\n",
        "epochs = range(len(acc))\n",
        "\n",
        "plt.plot(epochs, acc, 'b', label='Training accuracy')\n",
        "plt.title('Training accuracy')\n",
        "\n",
        "plt.figure()\n",
        "\n",
        "plt.plot(epochs, loss, 'b', label='Training Loss')\n",
        "plt.title('Training loss')\n",
        "plt.legend()\n",
        "\n",
        "plt.show()"
      ],
      "execution_count": 5,
      "outputs": [
        {
          "output_type": "display_data",
          "data": {
            "image/png": "[encoded data removed]",
            "text/plain": [
              "<Figure size 432x288 with 1 Axes>"
            ]
          },
          "metadata": {
            "needs_background": "light"
          }
        },
        {
          "output_type": "display_data",
          "data": {
            "image/png": "[encoded data removed]",
            "text/plain": [
              "<Figure size 432x288 with 1 Axes>"
            ]
          },
          "metadata": {
            "needs_background": "light"
          }
        }
      ]
    },
    {
      "cell_type": "code",
      "metadata": {
        "id": "6Vc6PHgxa6Hm",
        "outputId": "9e42ed20-d1a4-4e3f-c870-cb47f12b4685",
        "colab": {
          "base_uri": "https://localhost:8080/",
          "height": 235
        }
      },
      "source": [
        "seed_text = \"Help me Obi Wan Kenobi, you're my only hope\"\n",
        "next_words = 100\n",
        "  \n",
        "for _ in range(next_words):\n",
        "\ttoken_list = tokenizer.texts_to_sequences([seed_text])[0]\n",
        "\ttoken_list = pad_sequences([token_list], maxlen=max_sequence_len-1, padding='pre')\n",
        "\tpredicted = model.predict_classes(token_list, verbose=0)\n",
        "\toutput_word = \"\"\n",
        "\tfor word, index in tokenizer.word_index.items():\n",
        "\t\tif index == predicted:\n",
        "\t\t\toutput_word = word\n",
        "\t\t\tbreak\n",
        "\tseed_text += \" \" + output_word\n",
        "print(seed_text)"
      ],
      "execution_count": 6,
      "outputs": [
        {
          "output_type": "error",
          "ename": "AttributeError",
          "evalue": "ignored",
          "traceback": [
            "\u001b[0;31m---------------------------------------------------------------------------\u001b[0m",
            "\u001b[0;31mAttributeError\u001b[0m                            Traceback (most recent call last)",
            "\u001b[0;32m<ipython-input-6-622d307fa19a>\u001b[0m in \u001b[0;36m<module>\u001b[0;34m()\u001b[0m\n\u001b[1;32m      5\u001b[0m         \u001b[0mtoken_list\u001b[0m \u001b[0;34m=\u001b[0m \u001b[0mtokenizer\u001b[0m\u001b[0;34m.\u001b[0m\u001b[0mtexts_to_sequences\u001b[0m\u001b[0;34m(\u001b[0m\u001b[0;34m[\u001b[0m\u001b[0mseed_text\u001b[0m\u001b[0;34m]\u001b[0m\u001b[0;34m)\u001b[0m\u001b[0;34m[\u001b[0m\u001b[0;36m0\u001b[0m\u001b[0;34m]\u001b[0m\u001b[0;34m\u001b[0m\u001b[0;34m\u001b[0m\u001b[0m\n\u001b[1;32m      6\u001b[0m         \u001b[0mtoken_list\u001b[0m \u001b[0;34m=\u001b[0m \u001b[0mpad_sequences\u001b[0m\u001b[0;34m(\u001b[0m\u001b[0;34m[\u001b[0m\u001b[0mtoken_list\u001b[0m\u001b[0;34m]\u001b[0m\u001b[0;34m,\u001b[0m \u001b[0mmaxlen\u001b[0m\u001b[0;34m=\u001b[0m\u001b[0mmax_sequence_len\u001b[0m\u001b[0;34m-\u001b[0m\u001b[0;36m1\u001b[0m\u001b[0;34m,\u001b[0m \u001b[0mpadding\u001b[0m\u001b[0;34m=\u001b[0m\u001b[0;34m'pre'\u001b[0m\u001b[0;34m)\u001b[0m\u001b[0;34m\u001b[0m\u001b[0;34m\u001b[0m\u001b[0m\n\u001b[0;32m----> 7\u001b[0;31m         \u001b[0mpredicted\u001b[0m \u001b[0;34m=\u001b[0m \u001b[0mmodel\u001b[0m\u001b[0;34m.\u001b[0m\u001b[0mpredict_classes\u001b[0m\u001b[0;34m(\u001b[0m\u001b[0mtoken_list\u001b[0m\u001b[0;34m,\u001b[0m \u001b[0mverbose\u001b[0m\u001b[0;34m=\u001b[0m\u001b[0;36m0\u001b[0m\u001b[0;34m)\u001b[0m\u001b[0;34m\u001b[0m\u001b[0;34m\u001b[0m\u001b[0m\n\u001b[0m\u001b[1;32m      8\u001b[0m         \u001b[0moutput_word\u001b[0m \u001b[0;34m=\u001b[0m \u001b[0;34m\"\"\u001b[0m\u001b[0;34m\u001b[0m\u001b[0;34m\u001b[0m\u001b[0m\n\u001b[1;32m      9\u001b[0m         \u001b[0;32mfor\u001b[0m \u001b[0mword\u001b[0m\u001b[0;34m,\u001b[0m \u001b[0mindex\u001b[0m \u001b[0;32min\u001b[0m \u001b[0mtokenizer\u001b[0m\u001b[0;34m.\u001b[0m\u001b[0mword_index\u001b[0m\u001b[0;34m.\u001b[0m\u001b[0mitems\u001b[0m\u001b[0;34m(\u001b[0m\u001b[0;34m)\u001b[0m\u001b[0;34m:\u001b[0m\u001b[0;34m\u001b[0m\u001b[0;34m\u001b[0m\u001b[0m\n",
            "\u001b[0;31mAttributeError\u001b[0m: 'Sequential' object has no attribute 'predict_classes'"
          ]
        }
      ]
    }
  ]
}